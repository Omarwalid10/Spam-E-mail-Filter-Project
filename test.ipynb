{
 "cells": [
  {
   "cell_type": "code",
   "execution_count": 3,
   "id": "456315bf-c521-46e3-a58b-9df692f877e4",
   "metadata": {},
   "outputs": [
    {
     "name": "stdout",
     "output_type": "stream",
     "text": [
      "Logistic Regression:\n",
      "              precision    recall  f1-score   support\n",
      "\n",
      "           0       0.99      1.00      0.99       779\n",
      "           1       1.00      0.98      0.99       381\n",
      "\n",
      "    accuracy                           0.99      1160\n",
      "   macro avg       0.99      0.99      0.99      1160\n",
      "weighted avg       0.99      0.99      0.99      1160\n",
      "\n",
      "Decision Tree:\n",
      "              precision    recall  f1-score   support\n",
      "\n",
      "           0       0.99      0.98      0.98       779\n",
      "           1       0.95      0.97      0.96       381\n",
      "\n",
      "    accuracy                           0.97      1160\n",
      "   macro avg       0.97      0.97      0.97      1160\n",
      "weighted avg       0.97      0.97      0.97      1160\n",
      "\n"
     ]
    }
   ],
   "source": [
    " import pandas as pd\n",
    "import re\n",
    "from nltk.tokenize import word_tokenize\n",
    "from nltk.corpus import stopwords\n",
    "from nltk.stem import WordNetLemmatizer\n",
    "from gensim.models import Word2Vec\n",
    "from sklearn.model_selection import train_test_split\n",
    "from sklearn.metrics import classification_report\n",
    "from sklearn.linear_model import LogisticRegression\n",
    "from sklearn.tree import DecisionTreeClassifier\n",
    "\n",
    "# Load the dataset\n",
    "data = pd.read_csv(\"Spam_Email_Data.csv\")\n",
    "\n",
    "# Data Preprocessing\n",
    "def preprocess_text(text):\n",
    "    # Convert text to lowercase\n",
    "    text = text.lower()\n",
    "    # Remove special characters and numbers using regex\n",
    "    text = re.sub(r'[^a-zA-Z\\s]', ' ', text)\n",
    "    # Tokenization\n",
    "    tokens = word_tokenize(text)\n",
    "    # Remove stopwords\n",
    "    stop_words = set(stopwords.words('english'))\n",
    "    filtered_tokens = [word for word in tokens if word not in stop_words]\n",
    "    # Lemmatization\n",
    "    lemmatizer = WordNetLemmatizer()\n",
    "    lemmatized_tokens = [lemmatizer.lemmatize(word) for word in filtered_tokens]\n",
    "    return lemmatized_tokens\n",
    "\n",
    "# Tokenize and preprocess the 'text' column\n",
    "data['clean_text'] = data['text'].apply(preprocess_text)\n",
    "\n",
    "# Train Word2Vec model\n",
    "word2vec_model = Word2Vec(sentences=data['clean_text'], vector_size=100, window=5, min_count=1, workers=4)\n",
    "\n",
    "# Function to get document embeddings\n",
    "\n",
    "def get_doc_embedding(tokens):\n",
    "    word_embeddings = [word2vec_model.wv[word] for word in tokens if word in word2vec_model.wv]\n",
    "    if word_embeddings:\n",
    "        doc_embedding = sum(word_embeddings) / len(word_embeddings)\n",
    "    else:\n",
    "        doc_embedding = [0] * 100  # If no word found in the vocabulary, return zero vector\n",
    "    return doc_embedding\n",
    "\n",
    "# Get document embeddings for all documents\n",
    "data['doc_embedding'] = data['clean_text'].apply(get_doc_embedding)\n",
    "\n",
    "# Splitting the dataset into training and testing sets\n",
    "X_train, X_test, y_train, y_test = train_test_split(data['doc_embedding'].to_list(), data['target'], test_size=0.2, random_state=42)\n",
    "\n",
    "# Train Logistic Regression model\n",
    "log_reg_model = LogisticRegression()\n",
    "log_reg_model.fit(X_train, y_train)\n",
    "\n",
    "# Train Decision Tree model\n",
    "tree_model = DecisionTreeClassifier()\n",
    "tree_model.fit(X_train, y_train)\n",
    "\n",
    "# Evaluate models\n",
    "log_reg_pred = log_reg_model.predict(X_test)\n",
    "tree_pred = tree_model.predict(X_test)\n",
    "\n",
    "print(\"Logistic Regression:\")\n",
    "print(classification_report(y_test, log_reg_pred))\n",
    "\n",
    "print(\"Decision Tree:\")\n",
    "print(classification_report(y_test, tree_pred))\n"
   ]
  },
  {
   "cell_type": "code",
   "execution_count": 2,
   "id": "5c9e0cd7-5346-4693-8a6e-e52e1b670765",
   "metadata": {},
   "outputs": [
    {
     "data": {
      "text/plain": [
       "0       [-0.40194812, 0.6850408, -0.21529862, -0.34014...\n",
       "1       [-0.14532085, 0.6477422, -0.10622812, 0.085225...\n",
       "2       [-0.3384908, 0.74088675, 0.14835992, -0.384388...\n",
       "3       [-0.5410258, 0.015514152, 0.017502993, -0.1372...\n",
       "4       [-0.46610278, 0.8231711, -0.20361237, -0.66862...\n",
       "                              ...                        \n",
       "5791    [-0.6803774, 0.5955472, -0.0662018, -0.6343247...\n",
       "5792    [-0.19682094, 0.72839934, 0.27339488, -0.44882...\n",
       "5793    [-0.010830138, 0.33242434, -0.13595971, 0.0442...\n",
       "5794    [-0.58353204, 0.17688018, 0.1941054, -0.979490...\n",
       "5795    [-0.68748397, 0.25473619, 0.1906854, -0.859841...\n",
       "Name: doc_embedding, Length: 5796, dtype: object"
      ]
     },
     "execution_count": 2,
     "metadata": {},
     "output_type": "execute_result"
    }
   ],
   "source": [
    "data['doc_embedding']"
   ]
  },
  {
   "cell_type": "code",
   "execution_count": null,
   "id": "4ea0b6bc-e29b-4a93-800c-7d76955e2e32",
   "metadata": {},
   "outputs": [],
   "source": []
  }
 ],
 "metadata": {
  "kernelspec": {
   "display_name": "Python 3 (ipykernel)",
   "language": "python",
   "name": "python3"
  },
  "language_info": {
   "codemirror_mode": {
    "name": "ipython",
    "version": 3
   },
   "file_extension": ".py",
   "mimetype": "text/x-python",
   "name": "python",
   "nbconvert_exporter": "python",
   "pygments_lexer": "ipython3",
   "version": "3.12.3"
  }
 },
 "nbformat": 4,
 "nbformat_minor": 5
}
