{
 "cells": [
  {
   "cell_type": "code",
   "execution_count": 9,
   "id": "456315bf-c521-46e3-a58b-9df692f877e4",
   "metadata": {},
   "outputs": [
    {
     "name": "stdout",
     "output_type": "stream",
     "text": [
      "Logistic Regression:\n",
      "              precision    recall  f1-score   support\n",
      "\n",
      "           0       0.99      1.00      1.00       779\n",
      "           1       1.00      0.99      0.99       381\n",
      "\n",
      "    accuracy                           1.00      1160\n",
      "   macro avg       1.00      0.99      1.00      1160\n",
      "weighted avg       1.00      1.00      1.00      1160\n",
      "\n",
      "Decision Tree:\n",
      "              precision    recall  f1-score   support\n",
      "\n",
      "           0       0.98      0.99      0.98       779\n",
      "           1       0.98      0.96      0.97       381\n",
      "\n",
      "    accuracy                           0.98      1160\n",
      "   macro avg       0.98      0.97      0.98      1160\n",
      "weighted avg       0.98      0.98      0.98      1160\n",
      "\n"
     ]
    }
   ],
   "source": [
    " import pandas as pd\n",
    "import re\n",
    "from nltk.tokenize import word_tokenize\n",
    "from nltk.corpus import stopwords\n",
    "from nltk.stem import WordNetLemmatizer\n",
    "from gensim.models import Word2Vec\n",
    "from sklearn.model_selection import train_test_split\n",
    "from sklearn.metrics import classification_report\n",
    "from sklearn.linear_model import LogisticRegression\n",
    "from sklearn.tree import DecisionTreeClassifier\n",
    "\n",
    "# Load the dataset\n",
    "data = pd.read_csv(\"Spam_Email_Data.csv\")\n",
    "\n",
    "# Data Preprocessing\n",
    "def preprocess_text(text):\n",
    "    # Convert text to lowercase\n",
    "    text = text.lower()\n",
    "    # Remove special characters and numbers using regex\n",
    "    text = re.sub(r'[^a-zA-Z\\s]', '', text)\n",
    "    # Tokenization\n",
    "    tokens = word_tokenize(text)\n",
    "    # Remove stopwords\n",
    "    stop_words = set(stopwords.words('english'))\n",
    "    filtered_tokens = [word for word in tokens if word not in stop_words]\n",
    "    # Lemmatization\n",
    "    lemmatizer = WordNetLemmatizer()\n",
    "    lemmatized_tokens = [lemmatizer.lemmatize(word) for word in filtered_tokens]\n",
    "    return lemmatized_tokens\n",
    "\n",
    "# Tokenize and preprocess the 'text' column\n",
    "data['clean_text'] = data['text'].apply(preprocess_text)\n",
    "\n",
    "# Train Word2Vec model\n",
    "word2vec_model = Word2Vec(sentences=data['clean_text'], vector_size=100, window=5, min_count=1, workers=4)\n",
    "\n",
    "# Function to get document embeddings\n",
    "\n",
    "def get_doc_embedding(tokens):\n",
    "    word_embeddings = [word2vec_model.wv[word] for word in tokens if word in word2vec_model.wv]\n",
    "    if word_embeddings:\n",
    "        doc_embedding = sum(word_embeddings) / len(word_embeddings)\n",
    "    else:\n",
    "        doc_embedding = [0] * 100  # If no word found in the vocabulary, return zero vector\n",
    "    return doc_embedding\n",
    "\n",
    "# Get document embeddings for all documents\n",
    "data['doc_embedding'] = data['clean_text'].apply(get_doc_embedding)\n",
    "\n",
    "# Splitting the dataset into training and testing sets\n",
    "X_train, X_test, y_train, y_test = train_test_split(data['doc_embedding'].to_list(), data['target'], test_size=0.2, random_state=42)\n",
    "\n",
    "# Train Logistic Regression model\n",
    "log_reg_model = LogisticRegression()\n",
    "log_reg_model.fit(X_train, y_train)\n",
    "\n",
    "# Train Decision Tree model\n",
    "tree_model = DecisionTreeClassifier()\n",
    "tree_model.fit(X_train, y_train)\n",
    "\n",
    "# Evaluate models\n",
    "log_reg_pred = log_reg_model.predict(X_test)\n",
    "tree_pred = tree_model.predict(X_test)\n",
    "\n",
    "print(\"Logistic Regression:\")\n",
    "print(classification_report(y_test, log_reg_pred))\n",
    "\n",
    "print(\"Decision Tree:\")\n",
    "print(classification_report(y_test, tree_pred))\n"
   ]
  },
  {
   "cell_type": "code",
   "execution_count": 5,
   "id": "f9d72174-c93e-42be-a22d-7f562a562884",
   "metadata": {},
   "outputs": [
    {
     "data": {
      "text/plain": [
       "0       [-0.13293235, 0.5989273, -0.10993297, -0.51946...\n",
       "1       [0.14040406, 0.62252957, -0.033200316, -0.1430...\n",
       "2       [-0.11039918, 0.75404245, 0.31703705, -0.58244...\n",
       "3       [-0.24569444, 0.13170093, 0.18354368, -0.09825...\n",
       "4       [-0.19522151, 0.7204663, -0.07234885, -0.87194...\n",
       "                              ...                        \n",
       "5791    [-0.31374565, 0.52876866, 0.023394685, -0.7533...\n",
       "5792    [-0.023130037, 0.80330676, 0.35306415, -0.6309...\n",
       "5793    [0.03367258, 0.3827118, 0.058853943, 0.2070820...\n",
       "5794    [-0.4109603, 0.25338852, 0.39777717, -1.117165...\n",
       "5795    [-0.4162825, 0.46287644, 0.24279185, -1.114479...\n",
       "Name: doc_embedding, Length: 5796, dtype: object"
      ]
     },
     "execution_count": 5,
     "metadata": {},
     "output_type": "execute_result"
    }
   ],
   "source": [
    "data['doc_embedding']\n"
   ]
  },
  {
   "cell_type": "code",
   "execution_count": null,
   "id": "5c9e0cd7-5346-4693-8a6e-e52e1b670765",
   "metadata": {},
   "outputs": [],
   "source": []
  }
 ],
 "metadata": {
  "kernelspec": {
   "display_name": "Python 3 (ipykernel)",
   "language": "python",
   "name": "python3"
  },
  "language_info": {
   "codemirror_mode": {
    "name": "ipython",
    "version": 3
   },
   "file_extension": ".py",
   "mimetype": "text/x-python",
   "name": "python",
   "nbconvert_exporter": "python",
   "pygments_lexer": "ipython3",
   "version": "3.12.3"
  }
 },
 "nbformat": 4,
 "nbformat_minor": 5
}
